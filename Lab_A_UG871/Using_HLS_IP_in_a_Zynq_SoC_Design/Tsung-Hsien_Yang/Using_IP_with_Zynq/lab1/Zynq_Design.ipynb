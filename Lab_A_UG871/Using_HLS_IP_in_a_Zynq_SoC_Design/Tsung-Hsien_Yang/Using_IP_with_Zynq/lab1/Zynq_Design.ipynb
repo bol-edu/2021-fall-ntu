{
 "cells": [
  {
   "cell_type": "code",
   "execution_count": 1,
   "metadata": {},
   "outputs": [
    {
     "data": {
      "application/javascript": [
       "\n",
       "try {\n",
       "require(['notebook/js/codecell'], function(codecell) {\n",
       "  codecell.CodeCell.options_default.highlight_modes[\n",
       "      'magic_text/x-csrc'] = {'reg':[/^%%microblaze/]};\n",
       "  Jupyter.notebook.events.one('kernel_ready.Kernel', function(){\n",
       "      Jupyter.notebook.get_cells().map(function(cell){\n",
       "          if (cell.cell_type == 'code'){ cell.auto_highlight(); } }) ;\n",
       "  });\n",
       "});\n",
       "} catch (e) {};\n"
      ]
     },
     "metadata": {},
     "output_type": "display_data"
    },
    {
     "data": {
      "application/javascript": [
       "\n",
       "try {\n",
       "require(['notebook/js/codecell'], function(codecell) {\n",
       "  codecell.CodeCell.options_default.highlight_modes[\n",
       "      'magic_text/x-csrc'] = {'reg':[/^%%pybind11/]};\n",
       "  Jupyter.notebook.events.one('kernel_ready.Kernel', function(){\n",
       "      Jupyter.notebook.get_cells().map(function(cell){\n",
       "          if (cell.cell_type == 'code'){ cell.auto_highlight(); } }) ;\n",
       "  });\n",
       "});\n",
       "} catch (e) {};\n"
      ]
     },
     "metadata": {},
     "output_type": "display_data"
    },
    {
     "name": "stdout",
     "output_type": "stream",
     "text": [
      "Entry: /usr/lib/python3/dist-packages/ipykernel_launcher.py\n",
      "System argument(s): 3\n",
      "Start of \"/usr/lib/python3/dist-packages/ipykernel_launcher.py\"\n",
      "Interrupts: {'interrupt': {'controller': 'axi_intc_0', 'index': 0, 'fullpath': 'hls_macc_0/interrupt'}}\n",
      "2 * 21 = 42\n",
      "*** Results match ***\n"
     ]
    }
   ],
   "source": [
    "from __future__ import print_function\n",
    "\n",
    "import sys\n",
    "from time import time\n",
    "\n",
    "import asyncio\n",
    "loop = asyncio.get_event_loop()\n",
    "\n",
    "sys.path.append('/home/xilinx')\n",
    "import pynq\n",
    "from pynq import Overlay\n",
    "from pynq import allocate\n",
    "\n",
    "if __name__ == \"__main__\":\n",
    "    print(\"Entry:\", sys.argv[0])\n",
    "    print(\"System argument(s):\", len(sys.argv))\n",
    "\n",
    "    print(\"Start of \\\"\" + sys.argv[0] + \"\\\"\")\n",
    "\n",
    "    ol = Overlay(\"/home/xilinx/jupyter_notebooks/AAHLS_R10943005/LabA/Zynq_Design.bit\")\n",
    "    ipMACC = ol.hls_macc_0\n",
    "    print(\"Interrupts:\", ipMACC._interrupts)\n",
    "    intMACC = ipMACC.interrupt\n",
    "\n",
    "    a = 2\n",
    "    b = 21\n",
    "    \n",
    "    ipMACC.write(0x10, a)\n",
    "    ipMACC.write(0x18, b)\n",
    "    ipMACC.write(0x30, 1)\n",
    "\n",
    "    ipMACC.write(0x00, 0x01)\n",
    "\n",
    "    #while (ipMACC.read(0x00) & 0x4) == 0x0:\n",
    "    #    continue\n",
    "\n",
    "    async def waitForInterrupt():\n",
    "        timeWaitStart = time()\n",
    "        await intMACC.wait()\n",
    "        timeWaitEnd = time()\n",
    "        print(\"Wait time: \" + str(timeWaitEnd - timeWaitStart) + \" s\")\n",
    "        intMACC.clear()\n",
    "\n",
    "    if False: # use interrupt\n",
    "        loop.run_until_complete(waitForInterrupt())\n",
    "\n",
    "    res_hw = ipMACC.read(0x20)\n",
    "    print(str(a) + \" * \" + str(b) + \" = \" + str(res_hw))\n",
    "\n",
    "    res_sw = a * b\n",
    "    if res_hw == res_sw:\n",
    "        print(\"*** Results match ***\")\n",
    "    else:\n",
    "        print(\"!!! MISMATCH !!!\")"
   ]
  },
  {
   "cell_type": "code",
   "execution_count": null,
   "metadata": {},
   "outputs": [],
   "source": []
  }
 ],
 "metadata": {
  "kernelspec": {
   "display_name": "Python 3",
   "language": "python",
   "name": "python3"
  },
  "language_info": {
   "codemirror_mode": {
    "name": "ipython",
    "version": 3
   },
   "file_extension": ".py",
   "mimetype": "text/x-python",
   "name": "python",
   "nbconvert_exporter": "python",
   "pygments_lexer": "ipython3",
   "version": "3.6.5"
  }
 },
 "nbformat": 4,
 "nbformat_minor": 2
}
